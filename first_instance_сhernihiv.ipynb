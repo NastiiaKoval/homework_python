{
 "cells": [
  {
   "cell_type": "code",
   "execution_count": 12,
   "id": "fb118e29",
   "metadata": {
    "ExecuteTime": {
     "end_time": "2024-04-02T17:13:21.258094Z",
     "start_time": "2024-04-02T17:13:21.255505Z"
    }
   },
   "outputs": [],
   "source": [
    "import pandas as pd\n",
    "import numpy as np\n",
    "import matplotlib.pyplot as plt\n",
    "import seaborn as sns\n",
    "import plotly.graph_objs as go\n",
    "import plotly.subplots as ps\n",
    "import plotly.tools as tls"
   ]
  },
  {
   "cell_type": "code",
   "execution_count": 13,
   "id": "143784d7",
   "metadata": {
    "ExecuteTime": {
     "end_time": "2024-04-02T17:13:21.832698Z",
     "start_time": "2024-04-02T17:13:21.808523Z"
    }
   },
   "outputs": [],
   "source": [
    "path_to_file = r\"C:\\Users\\Asus\\Downloads\\Аналітика+інструкція\\Перша інстанція\\ГС Чернігівської області.xlsx\"\n",
    "xl = pd.ExcelFile(path_to_file)\n",
    "xl.sheet_names"
   ]
  },
  {
   "cell_type": "markdown",
   "id": "ab933408",
   "metadata": {},
   "source": [
    "Створення стовпця *\"Відкрито впровадження\"*, де значення True - справа дійшла до статусу \"Відкрито впровадження\", якщо False - не дійшла\n",
    "\n",
    "Створення стовпця *\"Апеляції\"*, де значення True - в справі була апеляція, якщо False - не було"
   ]
  },
  {
   "cell_type": "code",
   "execution_count": 14,
   "id": "5337de1f",
   "metadata": {
    "ExecuteTime": {
     "end_time": "2024-04-02T17:13:23.050148Z",
     "start_time": "2024-04-02T17:13:23.044904Z"
    }
   },
   "outputs": [],
   "source": [
    "def process_excel_sheets(path_to_file, sheets):\n",
    "    xl = pd.ExcelFile(path_to_file)\n",
    "    \n",
    "    # Проходження через кожен аркуш та обробка даних\n",
    "    data = {}\n",
    "    for sheet_name, df_var in sheets.items():\n",
    "        df = xl.parse(sheet_name)\n",
    "        \n",
    "        # Створення нових стовпців для поточного аркуша\n",
    "        df['Відкрито провадження'] = df['Статус'].str.contains('Відкрито провадження')\n",
    "        df['Апеляції'] = df['Статус'].str.contains('після апеляції')\n",
    "        \n",
    "        # Збереження результату у відповідній змінній\n",
    "        data[df_var] = df\n",
    "    \n",
    "    return data"
   ]
  },
  {
   "cell_type": "code",
   "execution_count": 15,
   "id": "924e972f",
   "metadata": {
    "ExecuteTime": {
     "end_time": "2024-04-02T17:13:23.892334Z",
     "start_time": "2024-04-02T17:13:23.849426Z"
    }
   },
   "outputs": [],
   "source": [
    "sheets = {\n",
    "    'Моцьор В. В.': 'df_mocor',\n",
    "    'Сидоренко А. С.': 'df_sydorenko',\n",
    "    'Белов С. В.': 'df_below',\n",
    "    'Фесюра М. В.': 'df_fesura',\n",
    "}\n",
    "\n",
    "# Обробка даних з аркушів Excel за допомогою функції\n",
    "data = process_excel_sheets(path_to_file, sheets)\n",
    "data[\"df_mocor\"].head()"
   ]
  },
  {
   "cell_type": "code",
   "execution_count": 10,
   "id": "e2444a5b",
   "metadata": {
    "ExecuteTime": {
     "end_time": "2024-04-02T17:12:52.914350Z",
     "start_time": "2024-04-02T17:12:52.889541Z"
    }
   },
   "outputs": [],
   "source": [
    "# Створення підграфіків за допомогою plotly.subplots\n",
    "fig = tls.make_subplots(rows=rows, cols=cols, subplot_titles=[f\"Успішність: {sheet_name}\" for sheet_name in sheets])\n",
    "\n",
    "# Проходження через кожен аркуш\n",
    "for i, (sheet_name, df_var) in enumerate(sheets.items(), start=1):\n",
    "    # Отримання значень стовпця \"Відкрито провадження\" для поточного аркуша\n",
    "    success_var = data[df_var]['Відкрито провадження'].value_counts()\n",
    "    \n",
    "    # Сортування за True та False\n",
    "    success_var = success_var.reindex([True, False])\n",
    "    \n",
    "    # Побудова гістограми\n",
    "    fig.add_trace(go.Bar(x=success_var.index, y=success_var.values, marker=dict(color=['#0080FF', '#FFFFCC'])),\n",
    "                  row=(i - 1) // cols + 1, col=(i - 1) % cols + 1)\n",
    "\n",
    "# Оновлення макету та підписів\n",
    "fig.update_layout(height=rows*300, width=cols*400, title_text=\"Графіки успішності\", showlegend=False)\n",
    "fig.update_xaxes(title_text=\"\", row=rows, col=1)\n",
    "fig.update_yaxes(title_text=\"\", row=1, col=cols)\n",
    "\n",
    "# Відображення графіка\n",
    "fig.show()\n"
   ]
  },
  {
   "cell_type": "code",
   "execution_count": 11,
   "id": "4ee94e13",
   "metadata": {
    "ExecuteTime": {
     "end_time": "2024-04-02T17:12:53.269588Z",
     "start_time": "2024-04-02T17:12:53.257322Z"
    }
   },
   "outputs": [],
   "source": [
    "for i, (sheet_name, df_var) in enumerate(sheets.items(), start=1):\n",
    "    # Отримання значень стовпця \"Відкрито провадження\" для поточного аркуша\n",
    "    success_var = data[df_var]['Апеляції'].value_counts()\n",
    "    print(f\"Успішність після апеляції: {sheet_name}, \\n{success_var}\\n\")"
   ]
  },
  {
   "cell_type": "code",
   "execution_count": null,
   "id": "478bc790",
   "metadata": {},
   "outputs": [],
   "source": []
  },
  {
   "cell_type": "code",
   "execution_count": null,
   "id": "194502a4",
   "metadata": {},
   "outputs": [],
   "source": []
  }
 ],
 "metadata": {
  "hide_input": false,
  "kernelspec": {
   "display_name": "Python 3 (ipykernel)",
   "language": "python",
   "name": "python3"
  },
  "language_info": {
   "codemirror_mode": {
    "name": "ipython",
    "version": 3
   },
   "file_extension": ".py",
   "mimetype": "text/x-python",
   "name": "python",
   "nbconvert_exporter": "python",
   "pygments_lexer": "ipython3",
   "version": "3.11.3"
  },
  "toc": {
   "base_numbering": 1,
   "nav_menu": {},
   "number_sections": true,
   "sideBar": true,
   "skip_h1_title": false,
   "title_cell": "Table of Contents",
   "title_sidebar": "Contents",
   "toc_cell": false,
   "toc_position": {},
   "toc_section_display": true,
   "toc_window_display": false
  },
  "varInspector": {
   "cols": {
    "lenName": 16,
    "lenType": 16,
    "lenVar": 40
   },
   "kernels_config": {
    "python": {
     "delete_cmd_postfix": "",
     "delete_cmd_prefix": "del ",
     "library": "var_list.py",
     "varRefreshCmd": "print(var_dic_list())"
    },
    "r": {
     "delete_cmd_postfix": ") ",
     "delete_cmd_prefix": "rm(",
     "library": "var_list.r",
     "varRefreshCmd": "cat(var_dic_list()) "
    }
   },
   "types_to_exclude": [
    "module",
    "function",
    "builtin_function_or_method",
    "instance",
    "_Feature"
   ],
   "window_display": false
  }
 },
 "nbformat": 4,
 "nbformat_minor": 5
}
